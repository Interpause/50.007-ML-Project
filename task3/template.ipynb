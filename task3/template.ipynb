{
 "cells": [
  {
   "cell_type": "code",
   "execution_count": 1,
   "id": "2304c4be",
   "metadata": {},
   "outputs": [],
   "source": [
    "### REMOVE LATER ###\n",
    "# Go up one directory since notebook inside task3/ folder.\n",
    "import os\n",
    "try:\n",
    "    if UP_DIR:\n",
    "        print(\"skipping\")\n",
    "except NameError:\n",
    "    os.chdir(\"..\")\n",
    "    UP_DIR = True"
   ]
  },
  {
   "cell_type": "markdown",
   "id": "8ad56939",
   "metadata": {},
   "source": [
    "# JH's Task 3 Experiment 1\n",
    "I don't know what I am doing yet for this."
   ]
  },
  {
   "cell_type": "markdown",
   "id": "be8e8fa9",
   "metadata": {},
   "source": [
    "## Imports"
   ]
  },
  {
   "cell_type": "code",
   "execution_count": 8,
   "id": "8c26973c",
   "metadata": {},
   "outputs": [],
   "source": [
    "from dataclasses import dataclass\n",
    "\n",
    "import pandas as pd\n",
    "from sklearn.model_selection import train_test_split"
   ]
  },
  {
   "cell_type": "markdown",
   "id": "31d84100",
   "metadata": {},
   "source": [
    "## Hyperparameters"
   ]
  },
  {
   "cell_type": "code",
   "execution_count": 10,
   "id": "c41f9b8b",
   "metadata": {},
   "outputs": [],
   "source": [
    "@dataclass\n",
    "class Hparams:\n",
    "    val_split: float = 0.2\n",
    "    seed: int = 42\n",
    "\n",
    "HP = Hparams()"
   ]
  },
  {
   "cell_type": "code",
   "execution_count": 4,
   "id": "b15db208",
   "metadata": {},
   "outputs": [],
   "source": [
    "TRAIN_CSV = \"./data/train.csv\"\n",
    "TRAIN_TFIDF_CSV = \"./data/train_tfidf_features.csv\"\n",
    "TEST_CSV = \"./data/test.csv\"\n",
    "TEST_TFIDF_CSV = \"./data/test_tfidf_features.csv\""
   ]
  },
  {
   "cell_type": "markdown",
   "id": "3e36c357",
   "metadata": {},
   "source": [
    "## Data Engineering"
   ]
  },
  {
   "cell_type": "markdown",
   "id": "361d387f",
   "metadata": {},
   "source": [
    "### Load Data"
   ]
  },
  {
   "cell_type": "code",
   "execution_count": 5,
   "id": "d5e58864",
   "metadata": {},
   "outputs": [],
   "source": [
    "train_df = pd.read_csv(TRAIN_CSV, index_col=\"id\")\n",
    "train_tfidf_df = pd.read_csv(TRAIN_TFIDF_CSV, index_col=\"id\")\n",
    "test_df = pd.read_csv(TEST_CSV, index_col=\"id\")\n",
    "test_tfidf_df = pd.read_csv(TEST_TFIDF_CSV, index_col=\"id\")"
   ]
  },
  {
   "cell_type": "code",
   "execution_count": 6,
   "id": "ff533efb",
   "metadata": {},
   "outputs": [],
   "source": [
    "def tfidf_to_np(df: pd.DataFrame):\n",
    "    \"\"\"Convert the tfidf CSVs to X array of features and y array of labels, ordered\n",
    "    by id.\n",
    "    \"\"\"\n",
    "    df = df.sort_index()\n",
    "\n",
    "    if \"label\" in df.columns:\n",
    "        y = df.pop(\"label\").to_numpy()\n",
    "    else:\n",
    "        y = None\n",
    "\n",
    "    X = df.to_numpy()\n",
    "    return X, y"
   ]
  },
  {
   "cell_type": "code",
   "execution_count": 12,
   "id": "d8bd2b4a",
   "metadata": {},
   "outputs": [],
   "source": [
    "train_X, val_X, train_y, val_y = train_test_split(*tfidf_to_np(train_tfidf_df), test_size=HP.val_split, random_state=HP.seed)\n",
    "test_X, test_y = tfidf_to_np(test_tfidf_df)"
   ]
  },
  {
   "cell_type": "markdown",
   "id": "ab0bf131",
   "metadata": {},
   "source": [
    "### Fit PCA For Dim Reduction"
   ]
  },
  {
   "cell_type": "code",
   "execution_count": null,
   "id": "428f5426",
   "metadata": {},
   "outputs": [],
   "source": []
  }
 ],
 "metadata": {
  "kernelspec": {
   "display_name": "50-007-ml-project",
   "language": "python",
   "name": "python3"
  },
  "language_info": {
   "codemirror_mode": {
    "name": "ipython",
    "version": 3
   },
   "file_extension": ".py",
   "mimetype": "text/x-python",
   "name": "python",
   "nbconvert_exporter": "python",
   "pygments_lexer": "ipython3",
   "version": "3.12.10"
  }
 },
 "nbformat": 4,
 "nbformat_minor": 5
}
